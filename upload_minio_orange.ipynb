{
 "cells": [
  {
   "cell_type": "markdown",
   "id": "technical-hotel",
   "metadata": {},
   "source": [
    "# IMPORT THE LIBRARIES"
   ]
  },
  {
   "cell_type": "code",
   "execution_count": 23,
   "id": "fiscal-aruba",
   "metadata": {},
   "outputs": [],
   "source": [
    "from minio import Minio\n",
    "import os\n",
    "import requests\n",
    "import requests.auth\n",
    "import boto3\n",
    "from botocore.client import Config\n",
    "from botocore.exceptions import ClientError\n",
    "import logging\n"
   ]
  },
  {
   "cell_type": "markdown",
   "id": "cosmetic-witch",
   "metadata": {},
   "source": [
    "## MAKE THE CONNECTION WITH MINIO"
   ]
  },
  {
   "cell_type": "code",
   "execution_count": 14,
   "id": "expected-balance",
   "metadata": {},
   "outputs": [],
   "source": [
    "client = Minio('localhost:9000',\n",
    "                    access_key='secret',\n",
    "                    secret_key='secret',\n",
    "              secure=False)"
   ]
  },
  {
   "cell_type": "markdown",
   "id": "romance-double",
   "metadata": {},
   "source": [
    "## LIST THE BUCKETS IN MINIO"
   ]
  },
  {
   "cell_type": "code",
   "execution_count": 15,
   "id": "southwest-implementation",
   "metadata": {},
   "outputs": [],
   "source": [
    "buckets = client.list_buckets()"
   ]
  },
  {
   "cell_type": "code",
   "execution_count": 16,
   "id": "central-sleeping",
   "metadata": {},
   "outputs": [
    {
     "name": "stdout",
     "output_type": "stream",
     "text": [
      "chumtestbucket 2021-02-25 21:57:05.568000+00:00\n"
     ]
    }
   ],
   "source": [
    "for bucket in buckets:\n",
    "    print(bucket.name, bucket.creation_date)"
   ]
  },
  {
   "cell_type": "markdown",
   "id": "detailed-engagement",
   "metadata": {},
   "source": [
    "# COMMAND TO CREATE BUCKET IN MINIO"
   ]
  },
  {
   "cell_type": "code",
   "execution_count": 17,
   "id": "smart-mixer",
   "metadata": {},
   "outputs": [
    {
     "ename": "S3Error",
     "evalue": "S3 operation failed; code: BucketAlreadyOwnedByYou, message: Your previous request to create the named bucket succeeded and you already own it., resource: /chumtestbucket, request_id: 1684FC41DD894F76, host_id: c4798d9b-47b0-4e39-bbc4-82ec042e4593, bucket_name: chumtestbucket",
     "output_type": "error",
     "traceback": [
      "\u001b[0;31m---------------------------------------------------------------------------\u001b[0m",
      "\u001b[0;31mS3Error\u001b[0m                                   Traceback (most recent call last)",
      "\u001b[0;32m<ipython-input-17-8343223b1750>\u001b[0m in \u001b[0;36m<module>\u001b[0;34m\u001b[0m\n\u001b[0;32m----> 1\u001b[0;31m \u001b[0mclient\u001b[0m\u001b[0;34m.\u001b[0m\u001b[0mmake_bucket\u001b[0m\u001b[0;34m(\u001b[0m\u001b[0;34m\"chumtestbucket\"\u001b[0m\u001b[0;34m)\u001b[0m\u001b[0;34m\u001b[0m\u001b[0;34m\u001b[0m\u001b[0m\n\u001b[0m",
      "\u001b[0;32m/usr/local/lib/python3.6/site-packages/minio/api.py\u001b[0m in \u001b[0;36mmake_bucket\u001b[0;34m(self, bucket_name, location, object_lock)\u001b[0m\n\u001b[1;32m    633\u001b[0m             \u001b[0mbucket_name\u001b[0m\u001b[0;34m=\u001b[0m\u001b[0mbucket_name\u001b[0m\u001b[0;34m,\u001b[0m\u001b[0;34m\u001b[0m\u001b[0;34m\u001b[0m\u001b[0m\n\u001b[1;32m    634\u001b[0m             \u001b[0mbody\u001b[0m\u001b[0;34m=\u001b[0m\u001b[0mbody\u001b[0m\u001b[0;34m,\u001b[0m\u001b[0;34m\u001b[0m\u001b[0;34m\u001b[0m\u001b[0m\n\u001b[0;32m--> 635\u001b[0;31m             \u001b[0mheaders\u001b[0m\u001b[0;34m=\u001b[0m\u001b[0mheaders\u001b[0m\u001b[0;34m,\u001b[0m\u001b[0;34m\u001b[0m\u001b[0;34m\u001b[0m\u001b[0m\n\u001b[0m\u001b[1;32m    636\u001b[0m         )\n\u001b[1;32m    637\u001b[0m         \u001b[0mself\u001b[0m\u001b[0;34m.\u001b[0m\u001b[0m_region_map\u001b[0m\u001b[0;34m[\u001b[0m\u001b[0mbucket_name\u001b[0m\u001b[0;34m]\u001b[0m \u001b[0;34m=\u001b[0m \u001b[0mlocation\u001b[0m\u001b[0;34m\u001b[0m\u001b[0;34m\u001b[0m\u001b[0m\n",
      "\u001b[0;32m/usr/local/lib/python3.6/site-packages/minio/api.py\u001b[0m in \u001b[0;36m_url_open\u001b[0;34m(self, method, region, bucket_name, object_name, body, headers, query_params, preload_content, no_body_trace)\u001b[0m\n\u001b[1;32m    391\u001b[0m             \u001b[0mself\u001b[0m\u001b[0;34m.\u001b[0m\u001b[0m_region_map\u001b[0m\u001b[0;34m.\u001b[0m\u001b[0mpop\u001b[0m\u001b[0;34m(\u001b[0m\u001b[0mbucket_name\u001b[0m\u001b[0;34m,\u001b[0m \u001b[0;32mNone\u001b[0m\u001b[0;34m)\u001b[0m\u001b[0;34m\u001b[0m\u001b[0;34m\u001b[0m\u001b[0m\n\u001b[1;32m    392\u001b[0m \u001b[0;34m\u001b[0m\u001b[0m\n\u001b[0;32m--> 393\u001b[0;31m         \u001b[0;32mraise\u001b[0m \u001b[0mresponse_error\u001b[0m\u001b[0;34m\u001b[0m\u001b[0;34m\u001b[0m\u001b[0m\n\u001b[0m\u001b[1;32m    394\u001b[0m \u001b[0;34m\u001b[0m\u001b[0m\n\u001b[1;32m    395\u001b[0m     def _execute(\n",
      "\u001b[0;31mS3Error\u001b[0m: S3 operation failed; code: BucketAlreadyOwnedByYou, message: Your previous request to create the named bucket succeeded and you already own it., resource: /chumtestbucket, request_id: 1684FC41DD894F76, host_id: c4798d9b-47b0-4e39-bbc4-82ec042e4593, bucket_name: chumtestbucket"
     ]
    }
   ],
   "source": [
    "client.make_bucket(\"chumtestbucket\")"
   ]
  },
  {
   "cell_type": "markdown",
   "id": "funny-mongolia",
   "metadata": {},
   "source": [
    "# INITIALIZE BROTO CONNECTION WITH MINIO"
   ]
  },
  {
   "cell_type": "code",
   "execution_count": 18,
   "id": "passive-translator",
   "metadata": {},
   "outputs": [],
   "source": [
    "s3 = boto3.resource('s3',aws_access_key_id = 'secret', aws_secret_access_key = 'secret', endpoint_url='http://recherche-coda19-rouge:9000',\n",
    "                   config=Config(signature_version='s3v4'))"
   ]
  },
  {
   "cell_type": "code",
   "execution_count": 19,
   "id": "proved-taiwan",
   "metadata": {},
   "outputs": [
    {
     "name": "stdout",
     "output_type": "stream",
     "text": [
      "chumtestbucket\n"
     ]
    }
   ],
   "source": [
    "for bucket in s3.buckets.all():\n",
    "    print(bucket.name)"
   ]
  },
  {
   "cell_type": "markdown",
   "id": "textile-return",
   "metadata": {},
   "source": [
    "# USE BROTO TO UPLOAD DATA TO A BUCKET IN MINIO"
   ]
  },
  {
   "cell_type": "code",
   "execution_count": 8,
   "id": "thermal-symbol",
   "metadata": {},
   "outputs": [],
   "source": [
    "s3.Bucket('chumtestbucket').upload_file('culture_data.json.ndjson.gz','culture_data.json.ndjson.gz')"
   ]
  },
  {
   "cell_type": "code",
   "execution_count": 8,
   "id": "violent-durham",
   "metadata": {},
   "outputs": [],
   "source": [
    "s3.Bucket('chumtestbucket').upload_file('episode_data.json.ndjson.gz','episode_data.json.ndjson.gz')"
   ]
  },
  {
   "cell_type": "code",
   "execution_count": 17,
   "id": "academic-mortality",
   "metadata": {},
   "outputs": [],
   "source": [
    "s3.Bucket('chumtestbucket').upload_file('demographic_data.json.ndjson.gz','demographic_data.json.ndjson.gz')"
   ]
  },
  {
   "cell_type": "markdown",
   "id": "roman-advertiser",
   "metadata": {},
   "source": [
    "# USE BROTO TO DELETE DATA FROM A BUCKET IN MINIO"
   ]
  },
  {
   "cell_type": "code",
   "execution_count": 103,
   "id": "brief-status",
   "metadata": {},
   "outputs": [
    {
     "data": {
      "text/plain": [
       "{'ResponseMetadata': {'RequestId': '16677711FB407564',\n",
       "  'HostId': '',\n",
       "  'HTTPStatusCode': 204,\n",
       "  'HTTPHeaders': {'accept-ranges': 'bytes',\n",
       "   'content-security-policy': 'block-all-mixed-content',\n",
       "   'server': 'MinIO',\n",
       "   'vary': 'Origin',\n",
       "   'x-amz-request-id': '16677711FB407564',\n",
       "   'x-xss-protection': '1; mode=block',\n",
       "   'date': 'Sat, 27 Feb 2021 01:38:30 GMT'},\n",
       "  'RetryAttempts': 0}}"
      ]
     },
     "execution_count": 103,
     "metadata": {},
     "output_type": "execute_result"
    }
   ],
   "source": [
    "obj_to_delete = s3.Object('chumtestbucket', 'culture_data.ndjson.gz')\n",
    "obj_to_delete.delete()"
   ]
  },
  {
   "cell_type": "markdown",
   "id": "changing-relation",
   "metadata": {},
   "source": [
    "# USE MINIO HANDLER TO UPLOAD DATA IN THE MINIO BUCKET (ANOTHER             \n",
    "\n",
    "# APPROACH)"
   ]
  },
  {
   "cell_type": "code",
   "execution_count": 61,
   "id": "fluid-theory",
   "metadata": {},
   "outputs": [
    {
     "data": {
      "text/plain": [
       "<minio.helpers.ObjectWriteResult at 0x7f83c28b0438>"
      ]
     },
     "execution_count": 61,
     "metadata": {},
     "output_type": "execute_result"
    }
   ],
   "source": [
    "client.fput_object('chumtestbucket','culture_data.ndjson.gz','culture_data.ndjson.gz')    "
   ]
  },
  {
   "cell_type": "markdown",
   "id": "solid-continuity",
   "metadata": {},
   "source": [
    "# USE MINIO HANDLER TO REMOVE DATA FROM THE MINIO BUCKET \n",
    "\n",
    "# (ANOTHER  APPROACH)"
   ]
  },
  {
   "cell_type": "code",
   "execution_count": 90,
   "id": "developing-wilderness",
   "metadata": {},
   "outputs": [],
   "source": [
    "client.remove_object('chumtestbucket','culture_data.ndjson.gz')"
   ]
  },
  {
   "cell_type": "markdown",
   "id": "potential-testimony",
   "metadata": {},
   "source": [
    "# METHOD TO CREATE URL POINTER TO A DATA LOCATED IN THE MINIO \n",
    "\n",
    "# BUCKET"
   ]
  },
  {
   "cell_type": "code",
   "execution_count": 22,
   "id": "loaded-jerusalem",
   "metadata": {},
   "outputs": [],
   "source": [
    "def create_presigned_url(bucket_name, object_name, expiration=3600):\n",
    "    \"\"\"Generate a presigned URL to share an S3 object\n",
    "\n",
    "    :param bucket_name: string\n",
    "    :param object_name: string\n",
    "    :param expiration: Time in seconds for the presigned URL to remain valid\n",
    "    :return: Presigned URL as string. If error, returns None.\n",
    "    \"\"\"\n",
    "\n",
    "    # Generate a presigned URL for the S3 object\n",
    "    s3_client = boto3.client('s3', endpoint_url='http://recherche-coda19-rouge:9000',aws_access_key_id = 'secret', aws_secret_access_key = 'secret')\n",
    "    \n",
    "    try:\n",
    "        response = s3_client.generate_presigned_url('get_object', Params={'Bucket': bucket_name,'Key': object_name}, ExpiresIn=expiration)\n",
    "    \n",
    "    except ClientError as e:\n",
    "    \n",
    "        logging.error(e)\n",
    "        return None\n",
    "\n",
    "    # The response contains the presigned URL\n",
    "    return response"
   ]
  },
  {
   "cell_type": "markdown",
   "id": "lonely-james",
   "metadata": {},
   "source": [
    "# CALL THE URL GENERATION FUNCTION"
   ]
  },
  {
   "cell_type": "code",
   "execution_count": 8,
   "id": "prime-chain",
   "metadata": {},
   "outputs": [],
   "source": [
    "url = create_presigned_url('chumtestbucket', 'culture_data.json.ndjson.gz')"
   ]
  },
  {
   "cell_type": "code",
   "execution_count": 10,
   "id": "egyptian-austin",
   "metadata": {},
   "outputs": [],
   "source": [
    "url = create_presigned_url('chumtestbucket', 'episode_data.json.ndjson.gz')"
   ]
  },
  {
   "cell_type": "code",
   "execution_count": 18,
   "id": "industrial-reference",
   "metadata": {},
   "outputs": [],
   "source": [
    "url = create_presigned_url('chumtestbucket', 'demographic_data.json.ndjson.gz')"
   ]
  },
  {
   "cell_type": "markdown",
   "id": "alleged-pendant",
   "metadata": {},
   "source": [
    "# DISPLAY THE GENERATED URL"
   ]
  },
  {
   "cell_type": "code",
   "execution_count": 9,
   "id": "acoustic-slovakia",
   "metadata": {},
   "outputs": [
    {
     "name": "stdout",
     "output_type": "stream",
     "text": [
      "http://recherche-coda19-orange:9000/chumtestbucket/culture_data.json.ndjson.gz?AWSAccessKeyId=_SNBlDc5gZf64xnLA0Sk_CJcTlmUQNRp&Signature=fpaujD0pU7ESW4Mr8VfB%2FG%2BFghA%3D&Expires=1622484351\n"
     ]
    }
   ],
   "source": [
    "print(url)"
   ]
  },
  {
   "cell_type": "markdown",
   "id": "offensive-bradford",
   "metadata": {},
   "source": [
    "# CREATE THE PAYLOAD"
   ]
  },
  {
   "cell_type": "code",
   "execution_count": 10,
   "id": "smart-technique",
   "metadata": {},
   "outputs": [],
   "source": [
    "payload=({\"source\":url})"
   ]
  },
  {
   "cell_type": "markdown",
   "id": "fiscal-folks",
   "metadata": {},
   "source": [
    "# GET THE USER AUTHORIZATION. THIS WAS DEFINED IN THE AIDBOX \n",
    "\n",
    "# FIRST"
   ]
  },
  {
   "cell_type": "code",
   "execution_count": 11,
   "id": "looking-numbers",
   "metadata": {},
   "outputs": [
    {
     "data": {
      "text/plain": [
       "<Response [200]>"
      ]
     },
     "execution_count": 11,
     "metadata": {},
     "output_type": "execute_result"
    }
   ],
   "source": [
    "requests.get(\"http://recherche-coda19-orange:8888/User\", auth=requests.auth.HTTPBasicAuth('python_load_script','chum123'))"
   ]
  },
  {
   "cell_type": "markdown",
   "id": "connected-shirt",
   "metadata": {},
   "source": [
    "# POST (UPLOAD) THE DATA ON THE AIDBOX"
   ]
  },
  {
   "cell_type": "code",
   "execution_count": 12,
   "id": "auburn-turning",
   "metadata": {},
   "outputs": [
    {
     "data": {
      "text/plain": [
       "<Response [200]>"
      ]
     },
     "execution_count": 12,
     "metadata": {},
     "output_type": "execute_result"
    }
   ],
   "source": [
    "requests.post(\"http://recherche-coda19-orange:8888/$load\",auth=requests.auth.HTTPBasicAuth('python_load_script','chum123'),json=payload)"
   ]
  },
  {
   "cell_type": "markdown",
   "id": "immediate-bottle",
   "metadata": {},
   "source": [
    "# THE FOLLOWING LINES ARE ONLY FOR DEBUGGING. \n",
    "\n",
    "# ASSIGN user_content TO THE requests.get (LINE FROM ABOVE) \n",
    "\n",
    "# ASSIGN response.json AND response.text TO THE \n",
    "\n",
    "# requests.post LINE."
   ]
  },
  {
   "cell_type": "code",
   "execution_count": 66,
   "id": "significant-yugoslavia",
   "metadata": {},
   "outputs": [
    {
     "name": "stdout",
     "output_type": "stream",
     "text": [
      "{'resourceType': 'OperationOutcome', 'id': 'exception', 'text': {'status': 'generated', 'div': 'Cannot invoke \"Object.toString()\" because \"s\" is null'}, 'issue': [{'severity': 'fatal', 'code': 'exception', 'diagnostics': 'Cannot invoke \"Object.toString()\" because \"s\" is null'}]}\n"
     ]
    }
   ],
   "source": [
    "print(user_content.json())\n",
    "print(response.json())\n",
    "print(response.text())"
   ]
  }
 ],
 "metadata": {
  "kernelspec": {
   "display_name": "Python 3",
   "language": "python",
   "name": "python3"
  },
  "language_info": {
   "codemirror_mode": {
    "name": "ipython",
    "version": 3
   },
   "file_extension": ".py",
   "mimetype": "text/x-python",
   "name": "python",
   "nbconvert_exporter": "python",
   "pygments_lexer": "ipython3",
   "version": "3.6.8"
  }
 },
 "nbformat": 4,
 "nbformat_minor": 5
}
